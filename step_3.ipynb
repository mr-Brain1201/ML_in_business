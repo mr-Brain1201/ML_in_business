{
 "cells": [
  {
   "cell_type": "code",
   "execution_count": 42,
   "id": "4be41acd",
   "metadata": {},
   "outputs": [],
   "source": [
    "import numpy as np\n",
    "import pandas as pd\n",
    "from sklearn.metrics import r2_score, mean_squared_error\n",
    "from urllib import request, parse\n",
    "\n",
    "X_test = pd.read_csv(\"X_test.csv\")\n",
    "y_test = pd.read_csv(\"y_test.csv\")"
   ]
  },
  {
   "cell_type": "code",
   "execution_count": 3,
   "id": "883dfc6a",
   "metadata": {},
   "outputs": [
    {
     "data": {
      "text/html": [
       "<div>\n",
       "<style scoped>\n",
       "    .dataframe tbody tr th:only-of-type {\n",
       "        vertical-align: middle;\n",
       "    }\n",
       "\n",
       "    .dataframe tbody tr th {\n",
       "        vertical-align: top;\n",
       "    }\n",
       "\n",
       "    .dataframe thead th {\n",
       "        text-align: right;\n",
       "    }\n",
       "</style>\n",
       "<table border=\"1\" class=\"dataframe\">\n",
       "  <thead>\n",
       "    <tr style=\"text-align: right;\">\n",
       "      <th></th>\n",
       "      <th>location</th>\n",
       "      <th>builder</th>\n",
       "      <th>area</th>\n",
       "      <th>age</th>\n",
       "    </tr>\n",
       "  </thead>\n",
       "  <tbody>\n",
       "    <tr>\n",
       "      <th>0</th>\n",
       "      <td>Adambakam</td>\n",
       "      <td>Prabha Homes</td>\n",
       "      <td>509</td>\n",
       "      <td>NaN</td>\n",
       "    </tr>\n",
       "    <tr>\n",
       "      <th>1</th>\n",
       "      <td>Kundrathur</td>\n",
       "      <td>MP Developers</td>\n",
       "      <td>1454</td>\n",
       "      <td>1.0</td>\n",
       "    </tr>\n",
       "    <tr>\n",
       "      <th>2</th>\n",
       "      <td>Kelambakkam</td>\n",
       "      <td>Balamurugan</td>\n",
       "      <td>800</td>\n",
       "      <td>NaN</td>\n",
       "    </tr>\n",
       "    <tr>\n",
       "      <th>3</th>\n",
       "      <td>Royapettah</td>\n",
       "      <td>Vinay Asrani</td>\n",
       "      <td>4200</td>\n",
       "      <td>2.0</td>\n",
       "    </tr>\n",
       "    <tr>\n",
       "      <th>4</th>\n",
       "      <td>Oragadam Industrial Corridor</td>\n",
       "      <td>24K Realtors</td>\n",
       "      <td>1991</td>\n",
       "      <td>4.0</td>\n",
       "    </tr>\n",
       "  </tbody>\n",
       "</table>\n",
       "</div>"
      ],
      "text/plain": [
       "                       location        builder  area  age\n",
       "0                     Adambakam   Prabha Homes   509  NaN\n",
       "1                    Kundrathur  MP Developers  1454  1.0\n",
       "2                   Kelambakkam    Balamurugan   800  NaN\n",
       "3                    Royapettah   Vinay Asrani  4200  2.0\n",
       "4  Oragadam Industrial Corridor   24K Realtors  1991  4.0"
      ]
     },
     "execution_count": 3,
     "metadata": {},
     "output_type": "execute_result"
    }
   ],
   "source": [
    "X_test[['location', 'builder', 'area', 'age']].head(5)"
   ]
  },
  {
   "cell_type": "code",
   "execution_count": null,
   "id": "45289480",
   "metadata": {},
   "outputs": [],
   "source": []
  },
  {
   "cell_type": "code",
   "execution_count": 51,
   "id": "3f43cd84",
   "metadata": {},
   "outputs": [],
   "source": [
    "import urllib.request\n",
    "import json      \n",
    "\n",
    "def get_prediction(location, builder, area, age):\n",
    "    body = {'location': location, \n",
    "            'builder': builder,\n",
    "            'area': area,\n",
    "            'age': age\n",
    "           } \n",
    "\n",
    "    myurl = \"http://0.0.0.0:8180/predict\"\n",
    "    req = urllib.request.Request(myurl)\n",
    "    req.add_header('Content-Type', 'application/json; charset=utf-8')\n",
    "    jsondata = json.dumps(body)\n",
    "    \n",
    "    jsondataasbytes = jsondata.encode('utf-8')   # needs to be bytes\n",
    "    req.add_header('Content-Length', len(jsondataasbytes))\n",
    "#     print (jsondataasbytes)\n",
    "    response = urllib.request.urlopen(req, jsondataasbytes)\n",
    "    pred = json.loads(response.read())['predictions']\n",
    "    \n",
    "    return pred"
   ]
  },
  {
   "cell_type": "code",
   "execution_count": 52,
   "id": "05c25122",
   "metadata": {},
   "outputs": [
    {
     "data": {
      "text/plain": [
       "83.24762014759534"
      ]
     },
     "execution_count": 52,
     "metadata": {},
     "output_type": "execute_result"
    }
   ],
   "source": [
    "get_prediction('Kundrathur', 'MP Developers', \"1454\", \"1.0\")"
   ]
  },
  {
   "cell_type": "code",
   "execution_count": 55,
   "id": "7b5d2cbe",
   "metadata": {},
   "outputs": [
    {
     "name": "stdout",
     "output_type": "stream",
     "text": [
      "CPU times: user 1 s, sys: 138 ms, total: 1.14 s\n",
      "Wall time: 11.8 s\n"
     ]
    }
   ],
   "source": [
    "%%time\n",
    "predictions = X_test[['location', 'builder', 'area', 'age']].apply(lambda x: get_prediction(x[0], \n",
    "                                                                                               x[1], \n",
    "                                                                                               x[2],\n",
    "                                                                                               x[3]), 1)"
   ]
  },
  {
   "cell_type": "code",
   "execution_count": 57,
   "id": "edb39965",
   "metadata": {},
   "outputs": [
    {
     "data": {
      "text/plain": [
       "0       38.655375\n",
       "1       83.247620\n",
       "2       34.953606\n",
       "3      898.496798\n",
       "4      142.135443\n",
       "          ...    \n",
       "650    391.108449\n",
       "651    146.212729\n",
       "652     70.444467\n",
       "653    255.324163\n",
       "654     42.746152\n",
       "Length: 655, dtype: float64"
      ]
     },
     "execution_count": 57,
     "metadata": {},
     "output_type": "execute_result"
    }
   ],
   "source": [
    "predictions\n"
   ]
  },
  {
   "cell_type": "code",
   "execution_count": 58,
   "id": "3b344af6",
   "metadata": {},
   "outputs": [
    {
     "data": {
      "text/plain": [
       "0.8886438585122236"
      ]
     },
     "execution_count": 58,
     "metadata": {},
     "output_type": "execute_result"
    }
   ],
   "source": [
    "r2_score(y_test, predictions)"
   ]
  }
 ],
 "metadata": {
  "kernelspec": {
   "display_name": "Python 3",
   "language": "python",
   "name": "python3"
  },
  "language_info": {
   "codemirror_mode": {
    "name": "ipython",
    "version": 3
   },
   "file_extension": ".py",
   "mimetype": "text/x-python",
   "name": "python",
   "nbconvert_exporter": "python",
   "pygments_lexer": "ipython3",
   "version": "3.8.8"
  }
 },
 "nbformat": 4,
 "nbformat_minor": 5
}
